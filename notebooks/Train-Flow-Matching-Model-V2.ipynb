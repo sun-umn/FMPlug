{
 "cells": [
  {
   "cell_type": "code",
   "execution_count": 1,
   "id": "smart-natural",
   "metadata": {},
   "outputs": [
    {
     "data": {
      "text/plain": [
       "'/users/5/dever120/FMPlug/notebooks'"
      ]
     },
     "execution_count": 1,
     "metadata": {},
     "output_type": "execute_result"
    }
   ],
   "source": [
    "%pwd"
   ]
  },
  {
   "cell_type": "code",
   "execution_count": 2,
   "id": "going-tenant",
   "metadata": {},
   "outputs": [
    {
     "name": "stdout",
     "output_type": "stream",
     "text": [
      "/users/5/dever120/FMPlug\n"
     ]
    }
   ],
   "source": [
    "%cd .."
   ]
  },
  {
   "cell_type": "code",
   "execution_count": 3,
   "id": "considerable-infrastructure",
   "metadata": {},
   "outputs": [
    {
     "name": "stderr",
     "output_type": "stream",
     "text": [
      "/tmp/ipykernel_2841501/1183321174.py:3: DeprecationWarning: \n",
      "Pyarrow will become a required dependency of pandas in the next major release of pandas (pandas 3.0),\n",
      "(to allow more performant data types, such as the Arrow string type, and better interoperability with other libraries)\n",
      "but was not found to be installed on your system.\n",
      "If this would cause problems for you,\n",
      "please provide us feedback at https://github.com/pandas-dev/pandas/issues/54466\n",
      "        \n",
      "  import pandas as pd\n"
     ]
    }
   ],
   "source": [
    "import matplotlib.pyplot as plt\n",
    "import numpy as np\n",
    "import pandas as pd\n",
    "import torch\n",
    "import tqdm\n",
    "from flow_matching.solver.ode_solver import ODESolver\n",
    "from skimage.metrics import peak_signal_noise_ratio\n",
    "from torch.optim import AdamW\n",
    "from torch.optim.lr_scheduler import ConstantLR\n",
    "from torchvision import datasets, transforms\n",
    "from torchvision.transforms.v2 import Compose, ToDtype, ToImage\n",
    "\n",
    "from fmplug.engine.scaling import NativeScaler\n",
    "from fmplug.engine.trainer import train_one_epoch\n",
    "from fmplug.engine.utils import get_time_discretization\n",
    "from fmplug.models.cfg_scaled import CFGScaledModel\n",
    "from fmplug.models.utils import instantiate_model\n",
    "from fmplug.utils.image_utils import mask_generator\n",
    "from fmplug.utils.measurements import get_noise, get_operator"
   ]
  },
  {
   "cell_type": "code",
   "execution_count": 4,
   "id": "recovered-karma",
   "metadata": {},
   "outputs": [],
   "source": [
    "# Setup\n",
    "device = torch.device(\"cuda:0\")"
   ]
  },
  {
   "cell_type": "markdown",
   "id": "approved-sustainability",
   "metadata": {},
   "source": [
    "# Load The Dataset"
   ]
  },
  {
   "cell_type": "code",
   "execution_count": 5,
   "id": "color-christian",
   "metadata": {},
   "outputs": [
    {
     "name": "stdout",
     "output_type": "stream",
     "text": [
      "Files already downloaded and verified\n"
     ]
    }
   ],
   "source": [
    "dataset = \"cifar10\"\n",
    "\n",
    "# Load the MNIST dataset\n",
    "transform = transforms.Compose([\n",
    "    ToImage(),\n",
    "    ToDtype(torch.float32, scale=True),\n",
    "])\n",
    "\n",
    "\n",
    "if dataset == \"celeba\":\n",
    "    train_dataset = datasets.CelebA(\n",
    "        '/home/jusun/dever120/datasets/celeba',\n",
    "        split=\"train\",\n",
    "        download=True,\n",
    "        transform=transform\n",
    "    )\n",
    "    test_dataset = datasets.CelebA(\n",
    "        '/home/jusun/dever120/datasets/celeba',\n",
    "        split=\"test\",\n",
    "        transform=transform\n",
    "    )\n",
    "\n",
    "elif dataset == \"cifar10\":\n",
    "    train_dataset = datasets.CIFAR10(\n",
    "        '../data',\n",
    "        train=True,\n",
    "        download=True,\n",
    "        transform=transform\n",
    "    )\n",
    "\n",
    "    test_dataset = datasets.CIFAR10(\n",
    "        '../data',\n",
    "        train=False,\n",
    "        transform=transform\n",
    "    )\n",
    "\n",
    "train_loader = torch.utils.data.DataLoader(train_dataset, batch_size=64, shuffle=True)\n",
    "test_loader = torch.utils.data.DataLoader(test_dataset, batch_size=64, shuffle=False)"
   ]
  },
  {
   "cell_type": "code",
   "execution_count": 6,
   "id": "amino-ukraine",
   "metadata": {},
   "outputs": [],
   "source": [
    "train_data = next(iter(train_loader))"
   ]
  },
  {
   "cell_type": "code",
   "execution_count": 7,
   "id": "weighted-multimedia",
   "metadata": {},
   "outputs": [
    {
     "data": {
      "text/plain": [
       "torch.Size([64, 3, 32, 32])"
      ]
     },
     "execution_count": 7,
     "metadata": {},
     "output_type": "execute_result"
    }
   ],
   "source": [
    "images = train_data[0]\n",
    "images.shape"
   ]
  },
  {
   "cell_type": "code",
   "execution_count": 8,
   "id": "educational-southeast",
   "metadata": {},
   "outputs": [],
   "source": [
    "# Extract a single image to view\n",
    "image = (\n",
    "    images[0, :, :, :]\n",
    "    .squeeze()\n",
    "    .numpy()\n",
    "    .transpose(2, 1, 0)\n",
    "    .transpose(1, 0, 2)\n",
    ")"
   ]
  },
  {
   "cell_type": "code",
   "execution_count": 9,
   "id": "executive-behavior",
   "metadata": {},
   "outputs": [
    {
     "data": {
      "text/plain": [
       "<matplotlib.image.AxesImage at 0x7fba286e7fb0>"
      ]
     },
     "execution_count": 9,
     "metadata": {},
     "output_type": "execute_result"
    },
    {
     "data": {
      "image/png": "[encoded data removed]",
      "text/plain": [
       "<Figure size 640x480 with 1 Axes>"
      ]
     },
     "metadata": {},
     "output_type": "display_data"
    }
   ],
   "source": [
    "plt.imshow(image)"
   ]
  },
  {
   "cell_type": "markdown",
   "id": "olympic-studio",
   "metadata": {},
   "source": [
    "# Train the Flow Matching Model"
   ]
  },
  {
   "cell_type": "code",
   "execution_count": 10,
   "id": "prime-import",
   "metadata": {},
   "outputs": [],
   "source": [
    "# Initialize the model\n",
    "model = instantiate_model(\n",
    "    architechture=dataset,\n",
    "    is_discrete=False,\n",
    "    use_ema=True,\n",
    ")\n",
    "\n",
    "model_without_ddp = model.to(device)"
   ]
  },
  {
   "cell_type": "code",
   "execution_count": 11,
   "id": "identified-median",
   "metadata": {},
   "outputs": [
    {
     "name": "stderr",
     "output_type": "stream",
     "text": [
      "/users/5/dever120/FMPlug/fmplug/engine/scaling.py:12: FutureWarning: `torch.cuda.amp.GradScaler(args...)` is deprecated. Please use `torch.amp.GradScaler('cuda', args...)` instead.\n",
      "  self._scaler = torch.cuda.amp.GradScaler()\n"
     ]
    }
   ],
   "source": [
    "# Number of epochs\n",
    "epochs = 5\n",
    "\n",
    "# Initialize the optimizer\n",
    "optimizer = torch.optim.AdamW(\n",
    "    model_without_ddp.parameters(),\n",
    "    lr=1e-4,\n",
    "    eps=1e-8,\n",
    ")\n",
    "\n",
    "# Initalize the learning rate scheduler\n",
    "lr_schedule = torch.optim.lr_scheduler.ConstantLR(\n",
    "    optimizer, total_iters=(len(train_loader) * epochs), factor=1.0\n",
    ")\n",
    "\n",
    "# Initialize the scaler used for mixed precision\n",
    "loss_scaler = NativeScaler()"
   ]
  },
  {
   "cell_type": "code",
   "execution_count": 12,
   "id": "spiritual-hardware",
   "metadata": {},
   "outputs": [
    {
     "name": "stderr",
     "output_type": "stream",
     "text": [
      "  0%|          | 0/5 [00:00<?, ?it/s]/users/5/dever120/FMPlug/fmplug/engine/trainer.py:69: FutureWarning: `torch.cuda.amp.autocast(args...)` is deprecated. Please use `torch.amp.autocast('cuda', args...)` instead.\n",
      "  with torch.cuda.amp.autocast(enabled=True, dtype=torch.float32):\n",
      " 20%|██        | 1/5 [02:41<10:46, 161.65s/it]"
     ]
    },
    {
     "name": "stdout",
     "output_type": "stream",
     "text": [
      "Number of loss violations: 0\n"
     ]
    },
    {
     "name": "stderr",
     "output_type": "stream",
     "text": [
      " 40%|████      | 2/5 [05:23<08:06, 162.04s/it]"
     ]
    },
    {
     "name": "stdout",
     "output_type": "stream",
     "text": [
      "Number of loss violations: 0\n"
     ]
    },
    {
     "name": "stderr",
     "output_type": "stream",
     "text": [
      " 60%|██████    | 3/5 [08:06<05:24, 162.32s/it]"
     ]
    },
    {
     "name": "stdout",
     "output_type": "stream",
     "text": [
      "Number of loss violations: 0\n"
     ]
    },
    {
     "name": "stderr",
     "output_type": "stream",
     "text": [
      " 80%|████████  | 4/5 [10:49<02:42, 162.37s/it]"
     ]
    },
    {
     "name": "stdout",
     "output_type": "stream",
     "text": [
      "Number of loss violations: 0\n"
     ]
    },
    {
     "name": "stderr",
     "output_type": "stream",
     "text": [
      "100%|██████████| 5/5 [13:31<00:00, 162.34s/it]"
     ]
    },
    {
     "name": "stdout",
     "output_type": "stream",
     "text": [
      "Number of loss violations: 0\n"
     ]
    },
    {
     "name": "stderr",
     "output_type": "stream",
     "text": [
      "\n"
     ]
    }
   ],
   "source": [
    "for epoch in tqdm.tqdm(range(0, epochs)):\n",
    "    train_stats = train_one_epoch(\n",
    "        model=model,\n",
    "        data_loader=train_loader,\n",
    "        optimizer=optimizer,\n",
    "        lr_schedule=lr_schedule,\n",
    "        device=device,\n",
    "        epoch=epoch,\n",
    "        loss_scaler=loss_scaler,\n",
    "    )\n",
    "    \n",
    "    log_stats = {\n",
    "        **{f\"train_{k}\": v for k, v in train_stats.items()},\n",
    "        \"epoch\": epoch,\n",
    "    }"
   ]
  },
  {
   "cell_type": "code",
   "execution_count": 13,
   "id": "proprietary-taiwan",
   "metadata": {},
   "outputs": [],
   "source": [
    "# Produce an image\n",
    "cfg_scaled_model = CFGScaledModel(model=model)\n",
    "cfg_scaled_model.train(False)\n",
    "\n",
    "solver = ODESolver(velocity_model=cfg_scaled_model)\n",
    "ode_opts = {\"step_size\": 0.01, \"nfe\": 5}"
   ]
  },
  {
   "cell_type": "markdown",
   "id": "russian-wealth",
   "metadata": {},
   "source": [
    "# Generate an Image"
   ]
  },
  {
   "cell_type": "code",
   "execution_count": 14,
   "id": "serious-shore",
   "metadata": {},
   "outputs": [],
   "source": [
    "samples, labels = next(iter(test_loader))"
   ]
  },
  {
   "cell_type": "code",
   "execution_count": 15,
   "id": "thirty-captain",
   "metadata": {},
   "outputs": [
    {
     "name": "stdout",
     "output_type": "stream",
     "text": [
      "torch.Size([64, 3, 32, 32]) 3 32 32\n"
     ]
    }
   ],
   "source": [
    "samples_shape = samples.shape\n",
    "sample_channels = samples_shape[1]\n",
    "sample_img_width = samples_shape[2]\n",
    "sample_img_height = samples_shape[3]\n",
    "\n",
    "print(\n",
    "    samples_shape,\n",
    "    sample_channels,\n",
    "    sample_img_width,\n",
    "    sample_img_height\n",
    ")"
   ]
  },
  {
   "cell_type": "code",
   "execution_count": 16,
   "id": "hazardous-stockholm",
   "metadata": {},
   "outputs": [
    {
     "name": "stderr",
     "output_type": "stream",
     "text": [
      "/users/5/dever120/FMPlug/fmplug/models/cfg_scaled.py:42: FutureWarning: `torch.cuda.amp.autocast(args...)` is deprecated. Please use `torch.amp.autocast('cuda', args...)` instead.\n",
      "  torch.cuda.amp.autocast(enabled=True, dtype=torch.float32),\n"
     ]
    }
   ],
   "source": [
    "edm_schedule = True\n",
    "\n",
    "# Continuous sampling\n",
    "x_0 = torch.randn((1, sample_channels, sample_img_width, sample_img_height), dtype=torch.float32, device=device)\n",
    "\n",
    "if edm_schedule:\n",
    "    time_grid = get_time_discretization(nfes=ode_opts[\"nfe\"])\n",
    "    \n",
    "else:\n",
    "    time_grid = torch.tensor([0.0, 1.0], device=device)\n",
    "\n",
    "synthetic_samples = solver.sample(\n",
    "    time_grid=time_grid,\n",
    "    x_init=x_0,\n",
    "    method=\"heun2\",\n",
    "    return_intermediates=False,\n",
    "    atol=ode_opts[\"atol\"] if \"atol\" in ode_opts else 1e-5,\n",
    "    rtol=ode_opts[\"rtol\"] if \"atol\" in ode_opts else 1e-5,\n",
    "    step_size=ode_opts[\"step_size\"]\n",
    "    if \"step_size\" in ode_opts\n",
    "    else None,\n",
    "    label={},  # No labels for our task\n",
    "    cfg_scale=0.0,  # 0.0 is unconditional and 1.0 is conditional on the label\n",
    ")\n",
    "\n",
    "# Scaling to [0, 1] from [-1, 1]\n",
    "synthetic_samples = torch.clamp(\n",
    "    synthetic_samples * 0.5 + 0.5, min=0.0, max=1.0\n",
    ")\n",
    "synthetic_samples = torch.floor(synthetic_samples * 255)\n",
    "synthetic_samples = synthetic_samples.to(torch.float32) / 255.0"
   ]
  },
  {
   "cell_type": "code",
   "execution_count": 17,
   "id": "renewable-serial",
   "metadata": {},
   "outputs": [
    {
     "data": {
      "text/plain": [
       "<matplotlib.image.AxesImage at 0x7fba2868e5a0>"
      ]
     },
     "execution_count": 17,
     "metadata": {},
     "output_type": "execute_result"
    },
    {
     "data": {
      "image/png": "[encoded data removed]",
      "text/plain": [
       "<Figure size 640x480 with 1 Axes>"
      ]
     },
     "metadata": {},
     "output_type": "display_data"
    }
   ],
   "source": [
    "synthetic_img = (\n",
    "    synthetic_samples\n",
    "    .detach()\n",
    "    .cpu()\n",
    "    .squeeze()\n",
    "    .numpy()\n",
    ")\n",
    "\n",
    "synthetic_img = (\n",
    "    synthetic_img\n",
    "    .transpose(2, 1, 0)\n",
    "    .transpose(1, 0, 2)\n",
    ")\n",
    "\n",
    "plt.imshow(synthetic_img)"
   ]
  },
  {
   "cell_type": "markdown",
   "id": "valuable-booth",
   "metadata": {},
   "source": [
    "# Inverse Problem"
   ]
  },
  {
   "cell_type": "code",
   "execution_count": 18,
   "id": "standard-scanner",
   "metadata": {},
   "outputs": [],
   "source": [
    "config = {\n",
    "    'measurement': {\n",
    "        'operator': {'name': 'inpainting'},\n",
    "        'mask_opt': {'mask_type': 'random', 'mask_prob_range': (0.4, 0.4), 'image_size': 32},\n",
    "        'noise': {'name': 'gaussian', 'sigma': 0.01}\n",
    "    }\n",
    "}\n",
    "\n",
    "measure_config = config[\"measurement\"]"
   ]
  },
  {
   "cell_type": "code",
   "execution_count": 19,
   "id": "adjustable-split",
   "metadata": {},
   "outputs": [
    {
     "name": "stdout",
     "output_type": "stream",
     "text": [
      "torch.Size([3, 32, 32]) torch.Size([3, 32, 32])\n",
      "tensor(-0.8980, device='cuda:0') tensor(1., device='cuda:0') cuda:0\n"
     ]
    },
    {
     "name": "stderr",
     "output_type": "stream",
     "text": [
      "/tmp/ipykernel_2841501/2485779471.py:11: UserWarning: To copy construct from a tensor, it is recommended to use sourceTensor.clone().detach() or sourceTensor.clone().detach().requires_grad_(True), rather than torch.tensor(sourceTensor).\n",
      "  ref_img = torch.tensor(ref_img)\n"
     ]
    }
   ],
   "source": [
    "# Test samples\n",
    "test_samples, test_labels = next(iter(test_loader))\n",
    "\n",
    "# Create the reference image\n",
    "ref_img = test_samples[0, :, :, :].squeeze()\n",
    "ref_numpy = ref_img\n",
    "\n",
    "print(ref_img.shape, ref_numpy.shape)\n",
    "\n",
    "ref_img = ref_img * 2.0 - 1.0\n",
    "ref_img = torch.tensor(ref_img)\n",
    "ref_img = (\n",
    "    ref_img\n",
    "    .unsqueeze(0)\n",
    "    .to(device)\n",
    ")\n",
    "print(ref_img.min(), ref_img.max(), ref_img.device)\n",
    "\n",
    "# Initalize operator\n",
    "operator = get_operator(device=device, **measure_config['operator'])\n",
    "noiser = get_noise(**measure_config['noise'])\n",
    "\n",
    "# For this case we will add a mask\n",
    "# and then noise\n",
    "mask_gen = mask_generator(\n",
    "    **measure_config['mask_opt']\n",
    ")\n",
    "mask = mask_gen(ref_img)\n",
    "mask = mask[:, 0, :, :].unsqueeze(dim=0)\n",
    "\n",
    "# Forward measurement model (Ax + n)\n",
    "y = operator.forward(ref_img, mask=mask)\n",
    "y_n = noiser(y)"
   ]
  },
  {
   "cell_type": "code",
   "execution_count": 20,
   "id": "cardiac-wholesale",
   "metadata": {},
   "outputs": [
    {
     "data": {
      "text/plain": [
       "torch.Size([1, 3, 32, 32])"
      ]
     },
     "execution_count": 20,
     "metadata": {},
     "output_type": "execute_result"
    }
   ],
   "source": [
    "y_n.shape"
   ]
  },
  {
   "cell_type": "code",
   "execution_count": 21,
   "id": "excess-consequence",
   "metadata": {},
   "outputs": [
    {
     "name": "stderr",
     "output_type": "stream",
     "text": [
      "Clipping input data to the valid range for imshow with RGB data ([0..1] for floats or [0..255] for integers). Got range [0.06048107..1.0043092].\n"
     ]
    },
    {
     "data": {
      "text/plain": [
       "<matplotlib.image.AxesImage at 0x7fba0441f650>"
      ]
     },
     "execution_count": 21,
     "metadata": {},
     "output_type": "execute_result"
    },
    {
     "data": {
      "image/png": "[encoded data removed]",
      "text/plain": [
       "<Figure size 640x480 with 1 Axes>"
      ]
     },
     "metadata": {},
     "output_type": "display_data"
    }
   ],
   "source": [
    "# Let's look at y_n\n",
    "# map back to [0, 1]\n",
    "noised_img = (y_n + 1) / 2\n",
    "noised_img = (\n",
    "    noised_img\n",
    "    .detach()\n",
    "    .cpu()\n",
    "    .squeeze()\n",
    "    .numpy()\n",
    "    .transpose(1, 2, 0)\n",
    ")\n",
    "\n",
    "plt.imshow(noised_img)"
   ]
  },
  {
   "cell_type": "code",
   "execution_count": 22,
   "id": "atomic-raising",
   "metadata": {},
   "outputs": [],
   "source": [
    "image_size = y_n.shape[2]"
   ]
  },
  {
   "cell_type": "code",
   "execution_count": 23,
   "id": "progressive-marina",
   "metadata": {},
   "outputs": [
    {
     "name": "stdout",
     "output_type": "stream",
     "text": [
      "torch.Size([1, 3, 32, 32])\n"
     ]
    }
   ],
   "source": [
    "# Learning rate\n",
    "lr = 1e-2\n",
    "\n",
    "# FMPlug\n",
    "z = torch.randn(\n",
    "    (1, 3, image_size, image_size),\n",
    "    device=device,\n",
    "    dtype=torch.float32,\n",
    "    requires_grad=True\n",
    ")\n",
    "print(z.shape)\n",
    "criterion = torch.nn.MSELoss().to(device)\n",
    "params_group1 = {'params': z, 'lr': lr}\n",
    "\n",
    "optimizer = torch.optim.AdamW([params_group1])"
   ]
  },
  {
   "cell_type": "code",
   "execution_count": 24,
   "id": "catholic-advice",
   "metadata": {},
   "outputs": [
    {
     "name": "stderr",
     "output_type": "stream",
     "text": [
      "100%|██████████| 500/500 [20:17<00:00,  2.44s/it]\n"
     ]
    }
   ],
   "source": [
    "epochs = 500 # SR, inpainting: 5,000, nonlinear deblurring: 10,000\n",
    "\n",
    "psnrs = []\n",
    "losses = []\n",
    "best_images = []\n",
    "\n",
    "if edm_schedule:\n",
    "    # small number of evaluations\n",
    "    time_grid = get_time_discretization(nfes=5)\n",
    "    \n",
    "else:\n",
    "    time_grid = torch.tensor([0.0, 1.0], device=device)\n",
    "\n",
    "for iterator in tqdm.tqdm(range(epochs)):\n",
    "    model.eval()\n",
    "    optimizer.zero_grad()\n",
    "\n",
    "    # Iterate over the path\n",
    "    x_t = solver.sample(\n",
    "        time_grid=time_grid,\n",
    "        x_init=z,\n",
    "        method=\"heun2\",\n",
    "        return_intermediates=False,\n",
    "        enable_grad=True,\n",
    "        atol=ode_opts[\"atol\"] if \"atol\" in ode_opts else 1e-5,\n",
    "        rtol=ode_opts[\"rtol\"] if \"atol\" in ode_opts else 1e-5,\n",
    "        step_size=ode_opts[\"step_size\"]\n",
    "        if \"step_size\" in ode_opts\n",
    "        else None,\n",
    "        label={},\n",
    "        cfg_scale=0.0,  # 0.0 is unconditional and 1.0 is conditional on the label\n",
    "    )\n",
    "\n",
    "    # Make sure values are between -1 and 1\n",
    "    output = torch.clamp(x_t, -1, 1)\n",
    "    if measure_config['operator']['name'] == 'inpainting':\n",
    "        # In the inverse problem we want to estimate the noise operator\n",
    "        loss = criterion(operator.forward(output, mask=mask), y_n)\n",
    "        \n",
    "    else:\n",
    "        loss = criterion(operator.forward(output), y_n)\n",
    "        \n",
    "    loss.backward()\n",
    "    optimizer.step()\n",
    "    losses.append(loss.item())\n",
    "    \n",
    "    # Evaluate\n",
    "    with torch.no_grad():\n",
    "        output_numpy = output.detach().cpu().squeeze().numpy()\n",
    "        output_numpy = (output_numpy + 1) / 2\n",
    "        output_numpy = np.transpose(output_numpy, (1, 2, 0))  # Keep out for now lets evaluate\n",
    "        \n",
    "        # calculate psnr\n",
    "        tmp_psnr = peak_signal_noise_ratio(\n",
    "            ref_numpy.numpy().transpose(1, 2, 0),\n",
    "            output_numpy\n",
    "        )\n",
    "        psnrs.append(tmp_psnr)\n",
    "        \n",
    "        if len(psnrs) == 1 or (len(psnrs) > 1 and tmp_psnr > np.max(psnrs[:-1])):\n",
    "            best_img = output_numpy\n",
    "            best_images.append(best_img)"
   ]
  },
  {
   "cell_type": "code",
   "execution_count": 25,
   "id": "interstate-affect",
   "metadata": {},
   "outputs": [
    {
     "data": {
      "text/plain": [
       "<matplotlib.image.AxesImage at 0x7fba0450a3f0>"
      ]
     },
     "execution_count": 25,
     "metadata": {},
     "output_type": "execute_result"
    },
    {
     "data": {
      "image/png": "[encoded data removed]",
      "text/plain": [
       "<Figure size 640x480 with 1 Axes>"
      ]
     },
     "metadata": {},
     "output_type": "display_data"
    }
   ],
   "source": [
    "display_ref_img = (\n",
    "    ref_numpy\n",
    "    .detach()\n",
    "    .cpu()\n",
    "    .squeeze()\n",
    "    .numpy()\n",
    "    .transpose(1, 2, 0)\n",
    ")\n",
    "\n",
    "plt.imshow(display_ref_img)"
   ]
  },
  {
   "cell_type": "code",
   "execution_count": 26,
   "id": "apart-carbon",
   "metadata": {},
   "outputs": [
    {
     "data": {
      "text/plain": [
       "(32, 32, 3)"
      ]
     },
     "execution_count": 26,
     "metadata": {},
     "output_type": "execute_result"
    }
   ],
   "source": [
    "best_img = best_images[-1]\n",
    "best_img = (\n",
    "    best_img\n",
    ")\n",
    "best_img.shape"
   ]
  },
  {
   "cell_type": "code",
   "execution_count": 27,
   "id": "correct-reservation",
   "metadata": {},
   "outputs": [
    {
     "name": "stderr",
     "output_type": "stream",
     "text": [
      "Clipping input data to the valid range for imshow with RGB data ([0..1] for floats or [0..255] for integers). Got range [0.06048107..1.0043092].\n"
     ]
    },
    {
     "data": {
      "text/plain": [
       "Text(0.5, 1.0, 'Reconstructed Image (FM)')"
      ]
     },
     "execution_count": 27,
     "metadata": {},
     "output_type": "execute_result"
    },
    {
     "data": {
      "image/png": "[encoded data removed]",
      "text/plain": [
       "<Figure size 1500x1500 with 3 Axes>"
      ]
     },
     "metadata": {},
     "output_type": "display_data"
    }
   ],
   "source": [
    "fig, (ax1, ax2, ax3) = plt.subplots(1, 3, figsize=(15, 15))\n",
    "\n",
    "ax1.imshow(display_ref_img)\n",
    "ax1.set_title(\"Ground Truth Image\")\n",
    "\n",
    "ax2.imshow(noised_img)\n",
    "ax2.set_title(\"Noised / Inpainting Image\")\n",
    "\n",
    "ax3.imshow(best_img)\n",
    "ax3.set_title(\"Reconstructed Image (FM)\")"
   ]
  },
  {
   "cell_type": "code",
   "execution_count": 28,
   "id": "structured-meter",
   "metadata": {},
   "outputs": [
    {
     "data": {
      "text/plain": [
       "<Axes: >"
      ]
     },
     "execution_count": 28,
     "metadata": {},
     "output_type": "execute_result"
    },
    {
     "data": {
      "image/png": "[encoded data removed]",
      "text/plain": [
       "<Figure size 640x480 with 1 Axes>"
      ]
     },
     "metadata": {},
     "output_type": "display_data"
    }
   ],
   "source": [
    "psnr_trajectory = pd.Series(psnrs)\n",
    "psnr_trajectory.plot()"
   ]
  },
  {
   "cell_type": "code",
   "execution_count": null,
   "id": "champion-teacher",
   "metadata": {},
   "outputs": [],
   "source": []
  }
 ],
 "metadata": {
  "kernelspec": {
   "display_name": "materialmind",
   "language": "python",
   "name": "materialmind"
  },
  "language_info": {
   "codemirror_mode": {
    "name": "ipython",
    "version": 3
   },
   "file_extension": ".py",
   "mimetype": "text/x-python",
   "name": "python",
   "nbconvert_exporter": "python",
   "pygments_lexer": "ipython3",
   "version": "3.12.8"
  }
 },
 "nbformat": 4,
 "nbformat_minor": 5
}
